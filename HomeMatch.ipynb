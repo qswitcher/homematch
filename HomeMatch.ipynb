{
 "cells": [
  {
   "cell_type": "markdown",
   "id": "a108af04",
   "metadata": {},
   "source": [
    "# HomeMatch\n",
    "Follow the installation instructions in `HomeMatchReadme.md`. Run each cell below to demonstrate the functionality of `HomeMatch`. To generate new test listings and save them to `Listings.txt` change the `generate_listings` variable to `True`"
   ]
  },
  {
   "cell_type": "code",
   "execution_count": 1,
   "id": "6554fd4c",
   "metadata": {},
   "outputs": [
    {
     "data": {
      "text/plain": [
       "True"
      ]
     },
     "execution_count": 1,
     "metadata": {},
     "output_type": "execute_result"
    }
   ],
   "source": [
    "\n",
    "from langchain.llms import OpenAI\n",
    "from langchain.document_loaders.csv_loader import CSVLoader\n",
    "from langchain.embeddings.openai import OpenAIEmbeddings\n",
    "from langchain.text_splitter import CharacterTextSplitter\n",
    "from langchain.vectorstores import Chroma\n",
    "from langchain.prompts import PromptTemplate\n",
    "from langchain.chains.question_answering import load_qa_chain\n",
    "from langchain.schema import Document\n",
    "from langchain.chat_models import ChatOpenAI\n",
    "from typing import List\n",
    "from langchain.text_splitter import RecursiveCharacterTextSplitter\n",
    "from langchain.document_loaders import TextLoader\n",
    "import random\n",
    "\n",
    "import csv\n",
    "import os\n",
    "from dotenv import load_dotenv\n",
    "\n",
    "load_dotenv()  # take environment variables from .env"
   ]
  },
  {
   "cell_type": "markdown",
   "id": "cdf7f31f",
   "metadata": {},
   "source": [
    "## Generate Listings Using LLM\n",
    "\n",
    "Set `generate_listings` to `True` to generate new listing data and save it to `Listings.txt`"
   ]
  },
  {
   "cell_type": "code",
   "execution_count": 2,
   "id": "9d0e4710",
   "metadata": {},
   "outputs": [],
   "source": [
    "generate_listings = False\n",
    "num_listings = 20\n",
    "filename = \"Listings.txt\"\n",
    "\n",
    "model_name = 'gpt-3.5-turbo'\n",
    "\n",
    "llm = ChatOpenAI()\n",
    "\n",
    "from langchain.chat_models import ChatOpenAI\n",
    "\n",
    "# Function to generate fake real estate listings using an LLM\n",
    "delimiter = \"\\n-----------------------\\n\"\n",
    "\n",
    "\n",
    "# Neighborhoods in Austin, TX\n",
    "neighborhoods = [\"SoCo\", \"Bouldin Creek\", \"Travis Heights\", \"Mueller\", \"Clarksville\",\n",
    "                 \"West Lake Hills\", \"Tarrytown\", \"Hyde Park\", \"Rosedale\", \"North Loop\", \"Brentwood\", \"Crestview\", \"Allandale\",\n",
    "                 \"East Austin\", \"Cherrywood\", \"Windsor Park\", \"Circle C Ranch\", \"Steiner Ranch\", \"Milwood\"]\n",
    "\n",
    "# Generate random properties\n",
    "def generate_random_property():\n",
    "    price = random.randint(150000, 2000000)  # Random price\n",
    "    bedrooms = random.randint(2, 6)\n",
    "    bathrooms = random.randint(1, bedrooms) # Don't recommend more bathrooms than bedrooms\n",
    "    sqft = random.randint(bedrooms*500, bedrooms*1000)  # Square footage\n",
    "    neighborhood = random.choice(neighborhoods)\n",
    "\n",
    "    return {\n",
    "        \"price\": f\"${price:,}\",\n",
    "        \"square_footage\": sqft,\n",
    "        \"bedrooms\": bedrooms,\n",
    "        \"bathrooms\": bathrooms,\n",
    "        \"neighborhood\": neighborhood\n",
    "    }\n",
    "\n",
    "def generate_fake_listings(num_listings):\n",
    "        \n",
    "    # Generate multiple listings\n",
    "    properties = [generate_random_property() for _ in range(num_listings)]\n",
    "    \n",
    "    # Format properties into descriptions using LLM\n",
    "    property_descriptions = []\n",
    "    prompt_template = PromptTemplate(\n",
    "        input_variables=[\"price\", \"square_footage\", \"bedrooms\", \"bathrooms\", \"neighborhood\"],\n",
    "        template=\"\"\"\n",
    "        Generate a compelling real estate listing description for a house in {neighborhood}, Texas.\n",
    "        It has {bedrooms} bedrooms, {bathrooms} bathrooms, and spans {square_footage} square feet.\n",
    "        The asking price is {price}. Be sure to also include a description\n",
    "        of neighborhood. Keep it engaging!\n",
    "        \"\"\"\n",
    "    )\n",
    "\n",
    "\n",
    "    listings = []\n",
    "    for i in range(num_listings):\n",
    "        prop_id = i + 1\n",
    "        prop = properties[i]\n",
    "        response = llm.invoke(prompt_template.format(**prop))\n",
    "        listings.append(\"Listing ID: {prop_id}\\n{content}\".format(prop_id=prop_id, content=response.content))\n",
    "\n",
    "    with open(filename, mode='w', encoding='utf-8') as file:\n",
    "        file.write(delimiter.join(listings))\n",
    "    \n",
    "\n",
    "if generate_listings:\n",
    "    content = generate_fake_listings(num_listings)\n",
    "\n",
    "    \n"
   ]
  },
  {
   "cell_type": "code",
   "execution_count": 3,
   "id": "312837fa",
   "metadata": {},
   "outputs": [],
   "source": [
    "# Load the document\n",
    "loader = TextLoader(filename)  \n",
    "docs = loader.load()\n",
    "\n",
    "# Manually split the document using the delimiter\n",
    "split_texts = docs[0].page_content.split(delimiter)  # Split on delimiter\n",
    "\n",
    "# Convert into LangChain Document objects\n",
    "split_docs = [Document(page_content=text.strip()) for text in split_texts if text.strip()]\n",
    "    \n",
    "embeddings = OpenAIEmbeddings()\n",
    "db = Chroma.from_documents(split_docs, embeddings)"
   ]
  },
  {
   "cell_type": "markdown",
   "id": "1fd542b5",
   "metadata": {},
   "source": [
    "## Semantic Search Using User Preferences\n",
    "Here we have hardcoded preferences passed from a user. Feel free to change the questions and answers to test out new\n",
    "preferences. We use these preferences to search for the closest 3 listings using a vector database."
   ]
  },
  {
   "cell_type": "code",
   "execution_count": 4,
   "id": "c9fb3f27",
   "metadata": {},
   "outputs": [],
   "source": [
    "questions = [   \n",
    "                \"How big do you want your house to be?\" \n",
    "                \"What are 3 most important things for you in choosing this property?\", \n",
    "                \"Which amenities would you like?\", \n",
    "                \"Which transportation options are important to you?\",\n",
    "                \"How urban do you want your neighborhood to be?\",   \n",
    "            ]\n",
    "answers = [\n",
    "    \"A comfortable three-bedroom house with a spacious kitchen and a cozy living room.\",\n",
    "    \"A quiet neighborhood, good local schools, and convenient shopping options.\",\n",
    "    \"A backyard for gardening, a two-car garage, and a modern, energy-efficient heating system.\",\n",
    "    \"Easy access to a reliable bus line, proximity to a major highway, and bike-friendly roads.\",\n",
    "    \"A balance between suburban tranquility and access to urban amenities like restaurants and theaters.\"\n",
    "]\n",
    "\n",
    "preferences = \"\\n\\n\".join(f\"Q: {q}\\nA: {a}\" for q, a in zip(questions, answers))\n",
    "\n",
    "query = \"\"\"\n",
    "Based on a list of user preferences in the form of question and answers, recommend real estate listings\n",
    "from the provided context that most closely match the user's preferences.\n",
    "\n",
    "## User Preferences\n",
    "{preferences}\n",
    "\"\"\".format(preferences=preferences)\n",
    "\n",
    "similar_docs = db.similarity_search(query, k=3)"
   ]
  },
  {
   "cell_type": "markdown",
   "id": "60e73bcd",
   "metadata": {},
   "source": [
    "## Generate Personalized Descriptions\n",
    "Here we generate personalized descriptions for their top 3 property picks based on the user's preferences."
   ]
  },
  {
   "cell_type": "code",
   "execution_count": 5,
   "id": "ad029481",
   "metadata": {},
   "outputs": [
    {
     "name": "stderr",
     "output_type": "stream",
     "text": [
      "/opt/homebrew/anaconda3/envs/homematch/lib/python3.10/site-packages/langchain/llms/openai.py:202: UserWarning: You are trying to use a chat model. This way of initializing it is no longer supported. Instead, please use: `from langchain.chat_models import ChatOpenAI`\n",
      "  warnings.warn(\n",
      "/opt/homebrew/anaconda3/envs/homematch/lib/python3.10/site-packages/langchain/llms/openai.py:790: UserWarning: You are trying to use a chat model. This way of initializing it is no longer supported. Instead, please use: `from langchain.chat_models import ChatOpenAI`\n",
      "  warnings.warn(\n"
     ]
    },
    {
     "name": "stdout",
     "output_type": "stream",
     "text": [
      "Listing ID: 8\n",
      "Price: $895,781\n",
      "This stunning 4 bedroom, 4 bathroom house in vibrant East Austin is a dream come true! With over 3,000 square feet of luxurious space, this home offers a modern design and spacious living perfect for entertaining or relaxing. The gourmet kitchen with top-of-the-line appliances and a large island is a chef's delight, while the master suite provides a private oasis with a spa-like bathroom. Outside, the beautifully landscaped yard is ideal for enjoying the Texas sunshine. Located in a neighborhood known for its eclectic mix of restaurants, shops, and entertainment options, this East Austin gem is waiting for you to make it your own.\n",
      "\n",
      "Listing ID: 14\n",
      "Price: $492,483\n",
      "Welcome to your dream home in the heart of vibrant East Austin! This stunning 5-bedroom, 2-bathroom house offers a spacious 4137 square feet of living space, perfect for families of all sizes. The modern design and open layout create a welcoming atmosphere for entertaining guests or relaxing in style. The gourmet kitchen is a chef's delight, and the luxurious master suite features a spa-like bathroom and a private balcony overlooking the lush backyard. With a beautifully landscaped yard perfect for outdoor gatherings and a vibrant neighborhood with trendy restaurants and shops, this East Austin gem is a rare find that won't last long!\n",
      "\n",
      "Listing ID: 11\n",
      "Price: $701,558\n",
      "Welcome to your dream home in the charming neighborhood of North Loop, Texas! This spacious 5-bedroom, 4-bathroom house offers a generous 4771 square feet of living space, perfect for you and your loved ones to live and grow. The abundance of natural light, high ceilings, and elegant finishes create a welcoming atmosphere for entertaining guests or enjoying quiet nights in with family. The master suite is a true retreat, and the expansive backyard is ideal for hosting summer BBQs or relaxing in the sun. With top-rated schools, friendly community atmosphere, and convenient access to shops and restaurants, this North Loop property is waiting for you to make it your forever home.\n"
     ]
    }
   ],
   "source": [
    "llm = OpenAI(model_name=model_name, temperature=0, max_tokens=2000)\n",
    "\n",
    "query = \"\"\"\n",
    "For each of the real estate listings in context, create a personalized description of the listing that resonates\n",
    "with the user preferences given. For each description, be sure to only use information from the\n",
    "real estate listing. Only output a single description of the listing alongside the price, number of bedrooms and bathrooms, alongside the listing ID.\n",
    "\n",
    "## User Preferences\n",
    "{preferences}\n",
    "\"\"\".format(preferences=preferences)\n",
    "\n",
    "prompt = PromptTemplate(\n",
    "    template=\"{query}\\nContext: {context}\",\n",
    "    input_variables=[\"query\", \"context\"],\n",
    ")\n",
    "chain = load_qa_chain(llm, prompt = prompt, chain_type=\"stuff\")\n",
    "print(chain.run(input_documents=similar_docs, query = query))\n"
   ]
  },
  {
   "cell_type": "code",
   "execution_count": null,
   "id": "17e16470",
   "metadata": {},
   "outputs": [],
   "source": []
  }
 ],
 "metadata": {
  "kernelspec": {
   "display_name": "Python 3 (ipykernel)",
   "language": "python",
   "name": "python3"
  },
  "language_info": {
   "codemirror_mode": {
    "name": "ipython",
    "version": 3
   },
   "file_extension": ".py",
   "mimetype": "text/x-python",
   "name": "python",
   "nbconvert_exporter": "python",
   "pygments_lexer": "ipython3",
   "version": "3.10.16"
  }
 },
 "nbformat": 4,
 "nbformat_minor": 5
}
